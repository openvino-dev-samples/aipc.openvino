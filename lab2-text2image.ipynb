{
 "cells": [
  {
   "attachments": {},
   "cell_type": "markdown",
   "id": "0a465fbf",
   "metadata": {},
   "source": [
    "# Lab2. Latent Consistency Model using Optimum-Intel OpenVINO"
   ]
  },
  {
   "attachments": {},
   "cell_type": "markdown",
   "id": "7fedcc5e",
   "metadata": {},
   "source": [
    "### Select inference device for text-to-image generation"
   ]
  },
  {
   "cell_type": "code",
   "execution_count": 1,
   "id": "fb1ed573",
   "metadata": {},
   "outputs": [
    {
     "data": {
      "application/vnd.jupyter.widget-view+json": {
       "model_id": "e2d3c4d5701d4e22a28e25ab55953006",
       "version_major": 2,
       "version_minor": 0
      },
      "text/plain": [
       "Dropdown(description='Device:', index=2, options=('CPU', 'GPU', 'AUTO'), value='AUTO')"
      ]
     },
     "execution_count": 1,
     "metadata": {},
     "output_type": "execute_result"
    }
   ],
   "source": [
    "from utils.notebook_utils import device_widget\n",
    "\n",
    "device = device_widget()\n",
    "\n",
    "device"
   ]
  },
  {
   "attachments": {},
   "cell_type": "markdown",
   "id": "7860bb7f",
   "metadata": {},
   "source": [
    "### Running inference using Optimum Intel `OVLatentConsistencyModelPipeline`"
   ]
  },
  {
   "cell_type": "code",
   "execution_count": 2,
   "id": "f8578ffd",
   "metadata": {},
   "outputs": [
    {
     "ename": "ImportError",
     "evalue": "cannot import name 'OVLatentConsistencyModelPipeline' from 'optimum.intel.openvino' (/home2/ethan/intel/aipc.openvino/openvino_env/lib/python3.10/site-packages/optimum/intel/openvino/__init__.py)",
     "output_type": "error",
     "traceback": [
      "\u001b[0;31m---------------------------------------------------------------------------\u001b[0m",
      "\u001b[0;31mImportError\u001b[0m                               Traceback (most recent call last)",
      "Cell \u001b[0;32mIn[2], line 1\u001b[0m\n\u001b[0;32m----> 1\u001b[0m \u001b[38;5;28;01mfrom\u001b[39;00m \u001b[38;5;21;01moptimum\u001b[39;00m\u001b[38;5;21;01m.\u001b[39;00m\u001b[38;5;21;01mintel\u001b[39;00m\u001b[38;5;21;01m.\u001b[39;00m\u001b[38;5;21;01mopenvino\u001b[39;00m \u001b[38;5;28;01mimport\u001b[39;00m OVLatentConsistencyModelPipeline\n\u001b[1;32m      2\u001b[0m \u001b[38;5;28;01mfrom\u001b[39;00m \u001b[38;5;21;01mpathlib\u001b[39;00m \u001b[38;5;28;01mimport\u001b[39;00m Path\n\u001b[1;32m      4\u001b[0m \u001b[38;5;28;01mif\u001b[39;00m \u001b[38;5;129;01mnot\u001b[39;00m Path(\u001b[38;5;124m\"\u001b[39m\u001b[38;5;124m./model/lcm\u001b[39m\u001b[38;5;124m\"\u001b[39m)\u001b[38;5;241m.\u001b[39mexists():\n",
      "\u001b[0;31mImportError\u001b[0m: cannot import name 'OVLatentConsistencyModelPipeline' from 'optimum.intel.openvino' (/home2/ethan/intel/aipc.openvino/openvino_env/lib/python3.10/site-packages/optimum/intel/openvino/__init__.py)"
     ]
    }
   ],
   "source": [
    "from optimum.intel.openvino import OVLatentConsistencyModelPipeline\n",
    "from pathlib import Path\n",
    "\n",
    "if not Path(\"./model/lcm\").exists():\n",
    "    ov_pipeline = OVLatentConsistencyModelPipeline.from_pretrained(\"OpenVINO/LCM_Dreamshaper_v7-int8-ov\", height=512, width=512, compile=False)\n",
    "    ov_pipeline.save_pretrained(\"./model/lcm\")\n",
    "else:\n",
    "    ov_pipeline = OVLatentConsistencyModelPipeline.from_pretrained(\"./model/lcm\", export=False, compile=False)\n",
    "\n",
    "ov_pipeline.reshape(batch_size=1, height=512, width=512, num_images_per_prompt=1)"
   ]
  },
  {
   "cell_type": "code",
   "execution_count": null,
   "id": "2afd5738",
   "metadata": {},
   "outputs": [],
   "source": [
    "ov_pipeline.to(device.value)\n",
    "ov_pipeline.compile()"
   ]
  },
  {
   "cell_type": "code",
   "execution_count": null,
   "id": "cd78df50-c08d-4b1e-98e9-5b7721ca20e0",
   "metadata": {},
   "outputs": [],
   "source": [
    "prompt = \"A cute squirrel in the forest, portrait, 8k\"\n",
    "\n",
    "image_ov = ov_pipeline(prompt=prompt, num_inference_steps=4, guidance_scale=8.0, height=512, width=512).images[0]\n",
    "image_ov.save(\"image_opt.png\")\n",
    "image_ov"
   ]
  },
  {
   "cell_type": "code",
   "execution_count": null,
   "id": "a04cdc19-f526-493b-8cb0-4ed5b92c9173",
   "metadata": {},
   "outputs": [],
   "source": [
    "del ov_pipeline\n",
    "gc.collect();"
   ]
  }
 ],
 "metadata": {
  "kernelspec": {
   "display_name": "Python 3 (ipykernel)",
   "language": "python",
   "name": "python3"
  },
  "language_info": {
   "codemirror_mode": {
    "name": "ipython",
    "version": 3
   },
   "file_extension": ".py",
   "mimetype": "text/x-python",
   "name": "python",
   "nbconvert_exporter": "python",
   "pygments_lexer": "ipython3",
   "version": "3.10.7"
  },
  "openvino_notebooks": {
   "imageUrl": "https://github.com/openvinotoolkit/openvino_notebooks/blob/latest/notebooks/stable-diffusion-v2/stable-diffusion-v2-optimum-demo.png?raw=true",
   "tags": {
    "categories": [
     "Model Demos",
     "AI Trends"
    ],
    "libraries": [],
    "other": [],
    "tasks": [
     "Text-to-Image"
    ]
   }
  },
  "widgets": {
   "application/vnd.jupyter.widget-state+json": {
    "state": {},
    "version_major": 2,
    "version_minor": 0
   }
  }
 },
 "nbformat": 4,
 "nbformat_minor": 5
}
